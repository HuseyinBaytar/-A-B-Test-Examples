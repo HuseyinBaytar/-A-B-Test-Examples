{
 "cells": [
  {
   "cell_type": "markdown",
   "id": "fbe5a8eb",
   "metadata": {
    "papermill": {
     "duration": 0.012804,
     "end_time": "2023-10-21T15:35:20.984355",
     "exception": false,
     "start_time": "2023-10-21T15:35:20.971551",
     "status": "completed"
    },
    "tags": []
   },
   "source": [
    "# <p style=\"background-color:lightgray; font-family:verdana; font-size:250%; text-align:center; border-radius: 15px 20px;\">🟠Libraries and Data import // First look at Data o.o/🟠</p>"
   ]
  },
  {
   "cell_type": "code",
   "execution_count": 1,
   "id": "4ea1920d",
   "metadata": {
    "_cell_guid": "b1076dfc-b9ad-4769-8c92-a6c4dae69d19",
    "_uuid": "8f2839f25d086af736a60e9eeb907d3b93b6e0e5",
    "execution": {
     "iopub.execute_input": "2023-10-21T15:35:21.010689Z",
     "iopub.status.busy": "2023-10-21T15:35:21.010257Z",
     "iopub.status.idle": "2023-10-21T15:35:23.407112Z",
     "shell.execute_reply": "2023-10-21T15:35:23.405938Z"
    },
    "papermill": {
     "duration": 2.412984,
     "end_time": "2023-10-21T15:35:23.409687",
     "exception": false,
     "start_time": "2023-10-21T15:35:20.996703",
     "status": "completed"
    },
    "tags": []
   },
   "outputs": [
    {
     "name": "stdout",
     "output_type": "stream",
     "text": [
      "/kaggle/input/ab-test-data/AB_Test_Results.csv\n",
      "/kaggle/input/fast-food-marketing-campaign-ab-test/WA_Marketing-Campaign.csv\n",
      "/kaggle/input/mobile-games-ab-testing/cookie_cats.csv\n"
     ]
    }
   ],
   "source": [
    "import itertools\n",
    "import numpy as np\n",
    "import pandas as pd\n",
    "import matplotlib.pyplot as plt\n",
    "import seaborn as sns\n",
    "import statsmodels.stats.api as sms\n",
    "from scipy.stats import ttest_1samp, shapiro, levene, ttest_ind, mannwhitneyu, kruskal\n",
    "\n",
    "\n",
    "import os\n",
    "for dirname, _, filenames in os.walk('/kaggle/input'):\n",
    "    for filename in filenames:\n",
    "        print(os.path.join(dirname, filename))"
   ]
  },
  {
   "cell_type": "markdown",
   "id": "fee71eff",
   "metadata": {
    "papermill": {
     "duration": 0.012323,
     "end_time": "2023-10-21T15:35:23.434930",
     "exception": false,
     "start_time": "2023-10-21T15:35:23.422607",
     "status": "completed"
    },
    "tags": []
   },
   "source": [
    "# <p style=\"padding:10px;background-color:orange;margin:0;color:black;font-family:newtimeroman;font-size:100%;text-align:center;border-radius: 15px 50px;overflow:hidden;font-weight:500\">A/B Test dataset</p>"
   ]
  },
  {
   "cell_type": "code",
   "execution_count": 2,
   "id": "cb1b8e5a",
   "metadata": {
    "execution": {
     "iopub.execute_input": "2023-10-21T15:35:23.462733Z",
     "iopub.status.busy": "2023-10-21T15:35:23.462159Z",
     "iopub.status.idle": "2023-10-21T15:35:23.490597Z",
     "shell.execute_reply": "2023-10-21T15:35:23.489716Z"
    },
    "papermill": {
     "duration": 0.045361,
     "end_time": "2023-10-21T15:35:23.493256",
     "exception": false,
     "start_time": "2023-10-21T15:35:23.447895",
     "status": "completed"
    },
    "tags": []
   },
   "outputs": [],
   "source": [
    "df = pd.read_csv(\"/kaggle/input/ab-test-data/AB_Test_Results.csv\")"
   ]
  },
  {
   "cell_type": "markdown",
   "id": "5f4cddca",
   "metadata": {
    "papermill": {
     "duration": 0.012088,
     "end_time": "2023-10-21T15:35:23.517941",
     "exception": false,
     "start_time": "2023-10-21T15:35:23.505853",
     "status": "completed"
    },
    "tags": []
   },
   "source": [
    "<div style=\"border-radius:10px; border:#DEB887 solid; padding: 15px; background-color: #FFFAF0; font-size:100%; text-align:left\">\n",
    "\n",
    "<h3 align=\"left\"><font color='#DEB887'>💡 Notes: </font></h3>\n",
    "  \n",
    "* **USER_ID**: Identification number\n",
    "* **VARIANT_NAME**: Group membership\n",
    "* **REVENUE**: Income"
   ]
  },
  {
   "cell_type": "code",
   "execution_count": 3,
   "id": "e0134399",
   "metadata": {
    "execution": {
     "iopub.execute_input": "2023-10-21T15:35:23.544870Z",
     "iopub.status.busy": "2023-10-21T15:35:23.544082Z",
     "iopub.status.idle": "2023-10-21T15:35:23.567981Z",
     "shell.execute_reply": "2023-10-21T15:35:23.566980Z"
    },
    "papermill": {
     "duration": 0.040387,
     "end_time": "2023-10-21T15:35:23.570685",
     "exception": false,
     "start_time": "2023-10-21T15:35:23.530298",
     "status": "completed"
    },
    "tags": []
   },
   "outputs": [],
   "source": [
    "df = df.drop_duplicates()"
   ]
  },
  {
   "cell_type": "code",
   "execution_count": 4,
   "id": "2d109716",
   "metadata": {
    "execution": {
     "iopub.execute_input": "2023-10-21T15:35:23.597834Z",
     "iopub.status.busy": "2023-10-21T15:35:23.597191Z",
     "iopub.status.idle": "2023-10-21T15:35:23.616230Z",
     "shell.execute_reply": "2023-10-21T15:35:23.615001Z"
    },
    "papermill": {
     "duration": 0.035613,
     "end_time": "2023-10-21T15:35:23.618862",
     "exception": false,
     "start_time": "2023-10-21T15:35:23.583249",
     "status": "completed"
    },
    "tags": []
   },
   "outputs": [
    {
     "data": {
      "text/html": [
       "<div>\n",
       "<style scoped>\n",
       "    .dataframe tbody tr th:only-of-type {\n",
       "        vertical-align: middle;\n",
       "    }\n",
       "\n",
       "    .dataframe tbody tr th {\n",
       "        vertical-align: top;\n",
       "    }\n",
       "\n",
       "    .dataframe thead th {\n",
       "        text-align: right;\n",
       "    }\n",
       "</style>\n",
       "<table border=\"1\" class=\"dataframe\">\n",
       "  <thead>\n",
       "    <tr style=\"text-align: right;\">\n",
       "      <th></th>\n",
       "      <th>USER_ID</th>\n",
       "      <th>VARIANT_NAME</th>\n",
       "      <th>REVENUE</th>\n",
       "    </tr>\n",
       "  </thead>\n",
       "  <tbody>\n",
       "    <tr>\n",
       "      <th>0</th>\n",
       "      <td>737</td>\n",
       "      <td>variant</td>\n",
       "      <td>0.0</td>\n",
       "    </tr>\n",
       "    <tr>\n",
       "      <th>1</th>\n",
       "      <td>2423</td>\n",
       "      <td>control</td>\n",
       "      <td>0.0</td>\n",
       "    </tr>\n",
       "    <tr>\n",
       "      <th>2</th>\n",
       "      <td>9411</td>\n",
       "      <td>control</td>\n",
       "      <td>0.0</td>\n",
       "    </tr>\n",
       "    <tr>\n",
       "      <th>3</th>\n",
       "      <td>7311</td>\n",
       "      <td>control</td>\n",
       "      <td>0.0</td>\n",
       "    </tr>\n",
       "    <tr>\n",
       "      <th>4</th>\n",
       "      <td>6174</td>\n",
       "      <td>variant</td>\n",
       "      <td>0.0</td>\n",
       "    </tr>\n",
       "  </tbody>\n",
       "</table>\n",
       "</div>"
      ],
      "text/plain": [
       "   USER_ID VARIANT_NAME  REVENUE\n",
       "0      737      variant      0.0\n",
       "1     2423      control      0.0\n",
       "2     9411      control      0.0\n",
       "3     7311      control      0.0\n",
       "4     6174      variant      0.0"
      ]
     },
     "execution_count": 4,
     "metadata": {},
     "output_type": "execute_result"
    }
   ],
   "source": [
    "df.head()"
   ]
  },
  {
   "cell_type": "code",
   "execution_count": 5,
   "id": "4fe559ae",
   "metadata": {
    "execution": {
     "iopub.execute_input": "2023-10-21T15:35:23.646180Z",
     "iopub.status.busy": "2023-10-21T15:35:23.645804Z",
     "iopub.status.idle": "2023-10-21T15:35:23.657592Z",
     "shell.execute_reply": "2023-10-21T15:35:23.656449Z"
    },
    "papermill": {
     "duration": 0.028459,
     "end_time": "2023-10-21T15:35:23.660208",
     "exception": false,
     "start_time": "2023-10-21T15:35:23.631749",
     "status": "completed"
    },
    "tags": []
   },
   "outputs": [],
   "source": [
    "control = df[df[\"VARIANT_NAME\"]==\"control\"]\n",
    "variant = df[df[\"VARIANT_NAME\"]==\"variant\"]"
   ]
  },
  {
   "cell_type": "code",
   "execution_count": 6,
   "id": "256c6276",
   "metadata": {
    "execution": {
     "iopub.execute_input": "2023-10-21T15:35:23.688656Z",
     "iopub.status.busy": "2023-10-21T15:35:23.688221Z",
     "iopub.status.idle": "2023-10-21T15:35:23.694260Z",
     "shell.execute_reply": "2023-10-21T15:35:23.693015Z"
    },
    "papermill": {
     "duration": 0.023661,
     "end_time": "2023-10-21T15:35:23.696994",
     "exception": false,
     "start_time": "2023-10-21T15:35:23.673333",
     "status": "completed"
    },
    "tags": []
   },
   "outputs": [
    {
     "name": "stdout",
     "output_type": "stream",
     "text": [
      "(3973, 3)\n",
      "(3960, 3)\n"
     ]
    }
   ],
   "source": [
    "print(control.shape)\n",
    "print(variant.shape)"
   ]
  },
  {
   "cell_type": "code",
   "execution_count": 7,
   "id": "45ddb041",
   "metadata": {
    "execution": {
     "iopub.execute_input": "2023-10-21T15:35:23.724381Z",
     "iopub.status.busy": "2023-10-21T15:35:23.723999Z",
     "iopub.status.idle": "2023-10-21T15:35:23.740057Z",
     "shell.execute_reply": "2023-10-21T15:35:23.738828Z"
    },
    "papermill": {
     "duration": 0.032817,
     "end_time": "2023-10-21T15:35:23.742729",
     "exception": false,
     "start_time": "2023-10-21T15:35:23.709912",
     "status": "completed"
    },
    "tags": []
   },
   "outputs": [
    {
     "data": {
      "text/html": [
       "<div>\n",
       "<style scoped>\n",
       "    .dataframe tbody tr th:only-of-type {\n",
       "        vertical-align: middle;\n",
       "    }\n",
       "\n",
       "    .dataframe tbody tr th {\n",
       "        vertical-align: top;\n",
       "    }\n",
       "\n",
       "    .dataframe thead th {\n",
       "        text-align: right;\n",
       "    }\n",
       "</style>\n",
       "<table border=\"1\" class=\"dataframe\">\n",
       "  <thead>\n",
       "    <tr style=\"text-align: right;\">\n",
       "      <th></th>\n",
       "      <th>USER_ID</th>\n",
       "      <th>VARIANT_NAME</th>\n",
       "      <th>REVENUE</th>\n",
       "    </tr>\n",
       "  </thead>\n",
       "  <tbody>\n",
       "    <tr>\n",
       "      <th>1437</th>\n",
       "      <td>3342</td>\n",
       "      <td>control</td>\n",
       "      <td>196.01</td>\n",
       "    </tr>\n",
       "    <tr>\n",
       "      <th>6447</th>\n",
       "      <td>2881</td>\n",
       "      <td>variant</td>\n",
       "      <td>58.63</td>\n",
       "    </tr>\n",
       "    <tr>\n",
       "      <th>7642</th>\n",
       "      <td>7206</td>\n",
       "      <td>variant</td>\n",
       "      <td>57.46</td>\n",
       "    </tr>\n",
       "    <tr>\n",
       "      <th>9421</th>\n",
       "      <td>6792</td>\n",
       "      <td>control</td>\n",
       "      <td>41.53</td>\n",
       "    </tr>\n",
       "    <tr>\n",
       "      <th>8168</th>\n",
       "      <td>2166</td>\n",
       "      <td>control</td>\n",
       "      <td>29.32</td>\n",
       "    </tr>\n",
       "    <tr>\n",
       "      <th>9125</th>\n",
       "      <td>831</td>\n",
       "      <td>control</td>\n",
       "      <td>25.98</td>\n",
       "    </tr>\n",
       "    <tr>\n",
       "      <th>2482</th>\n",
       "      <td>7356</td>\n",
       "      <td>variant</td>\n",
       "      <td>23.04</td>\n",
       "    </tr>\n",
       "    <tr>\n",
       "      <th>6412</th>\n",
       "      <td>1053</td>\n",
       "      <td>control</td>\n",
       "      <td>20.07</td>\n",
       "    </tr>\n",
       "    <tr>\n",
       "      <th>5217</th>\n",
       "      <td>3684</td>\n",
       "      <td>variant</td>\n",
       "      <td>19.47</td>\n",
       "    </tr>\n",
       "    <tr>\n",
       "      <th>5530</th>\n",
       "      <td>282</td>\n",
       "      <td>control</td>\n",
       "      <td>18.56</td>\n",
       "    </tr>\n",
       "  </tbody>\n",
       "</table>\n",
       "</div>"
      ],
      "text/plain": [
       "      USER_ID VARIANT_NAME  REVENUE\n",
       "1437     3342      control   196.01\n",
       "6447     2881      variant    58.63\n",
       "7642     7206      variant    57.46\n",
       "9421     6792      control    41.53\n",
       "8168     2166      control    29.32\n",
       "9125      831      control    25.98\n",
       "2482     7356      variant    23.04\n",
       "6412     1053      control    20.07\n",
       "5217     3684      variant    19.47\n",
       "5530      282      control    18.56"
      ]
     },
     "execution_count": 7,
     "metadata": {},
     "output_type": "execute_result"
    }
   ],
   "source": [
    "df.sort_values(by='REVENUE', ascending=False).head(10)"
   ]
  },
  {
   "cell_type": "code",
   "execution_count": 8,
   "id": "f88eaccd",
   "metadata": {
    "execution": {
     "iopub.execute_input": "2023-10-21T15:35:23.771366Z",
     "iopub.status.busy": "2023-10-21T15:35:23.771000Z",
     "iopub.status.idle": "2023-10-21T15:35:23.801222Z",
     "shell.execute_reply": "2023-10-21T15:35:23.799953Z"
    },
    "papermill": {
     "duration": 0.047352,
     "end_time": "2023-10-21T15:35:23.803683",
     "exception": false,
     "start_time": "2023-10-21T15:35:23.756331",
     "status": "completed"
    },
    "tags": []
   },
   "outputs": [
    {
     "data": {
      "text/html": [
       "<div>\n",
       "<style scoped>\n",
       "    .dataframe tbody tr th:only-of-type {\n",
       "        vertical-align: middle;\n",
       "    }\n",
       "\n",
       "    .dataframe tbody tr th {\n",
       "        vertical-align: top;\n",
       "    }\n",
       "\n",
       "    .dataframe thead tr th {\n",
       "        text-align: left;\n",
       "    }\n",
       "\n",
       "    .dataframe thead tr:last-of-type th {\n",
       "        text-align: right;\n",
       "    }\n",
       "</style>\n",
       "<table border=\"1\" class=\"dataframe\">\n",
       "  <thead>\n",
       "    <tr>\n",
       "      <th></th>\n",
       "      <th>USER_ID</th>\n",
       "      <th colspan=\"4\" halign=\"left\">REVENUE</th>\n",
       "    </tr>\n",
       "    <tr>\n",
       "      <th></th>\n",
       "      <th>nunique</th>\n",
       "      <th>sum</th>\n",
       "      <th>mean</th>\n",
       "      <th>median</th>\n",
       "      <th>count</th>\n",
       "    </tr>\n",
       "    <tr>\n",
       "      <th>VARIANT_NAME</th>\n",
       "      <th></th>\n",
       "      <th></th>\n",
       "      <th></th>\n",
       "      <th></th>\n",
       "      <th></th>\n",
       "    </tr>\n",
       "  </thead>\n",
       "  <tbody>\n",
       "    <tr>\n",
       "      <th>control</th>\n",
       "      <td>3931</td>\n",
       "      <td>643.00</td>\n",
       "      <td>0.161842</td>\n",
       "      <td>0.0</td>\n",
       "      <td>3973</td>\n",
       "    </tr>\n",
       "    <tr>\n",
       "      <th>variant</th>\n",
       "      <td>3934</td>\n",
       "      <td>351.47</td>\n",
       "      <td>0.088755</td>\n",
       "      <td>0.0</td>\n",
       "      <td>3960</td>\n",
       "    </tr>\n",
       "  </tbody>\n",
       "</table>\n",
       "</div>"
      ],
      "text/plain": [
       "             USER_ID REVENUE                       \n",
       "             nunique     sum      mean median count\n",
       "VARIANT_NAME                                       \n",
       "control         3931  643.00  0.161842    0.0  3973\n",
       "variant         3934  351.47  0.088755    0.0  3960"
      ]
     },
     "execution_count": 8,
     "metadata": {},
     "output_type": "execute_result"
    }
   ],
   "source": [
    "df.groupby(by='VARIANT_NAME').agg({'USER_ID': 'nunique',\n",
    "                                               'REVENUE': ['sum', 'mean', 'median', 'count']})"
   ]
  },
  {
   "cell_type": "code",
   "execution_count": 9,
   "id": "1d4f318c",
   "metadata": {
    "execution": {
     "iopub.execute_input": "2023-10-21T15:35:23.832842Z",
     "iopub.status.busy": "2023-10-21T15:35:23.832423Z",
     "iopub.status.idle": "2023-10-21T15:35:24.361790Z",
     "shell.execute_reply": "2023-10-21T15:35:24.360623Z"
    },
    "papermill": {
     "duration": 0.547491,
     "end_time": "2023-10-21T15:35:24.364673",
     "exception": false,
     "start_time": "2023-10-21T15:35:23.817182",
     "status": "completed"
    },
    "tags": []
   },
   "outputs": [
    {
     "data": {
      "text/plain": [
       "<Axes: xlabel='REVENUE', ylabel='Density'>"
      ]
     },
     "execution_count": 9,
     "metadata": {},
     "output_type": "execute_result"
    },
    {
     "data": {
      "image/png": "[encoded data removed]",
      "text/plain": [
       "<Figure size 640x480 with 1 Axes>"
      ]
     },
     "metadata": {},
     "output_type": "display_data"
    }
   ],
   "source": [
    "sns.kdeplot(x=\"REVENUE\",data=df,hue= 'VARIANT_NAME')"
   ]
  },
  {
   "cell_type": "code",
   "execution_count": 10,
   "id": "ee871b28",
   "metadata": {
    "execution": {
     "iopub.execute_input": "2023-10-21T15:35:24.394734Z",
     "iopub.status.busy": "2023-10-21T15:35:24.394348Z",
     "iopub.status.idle": "2023-10-21T15:35:24.402156Z",
     "shell.execute_reply": "2023-10-21T15:35:24.401197Z"
    },
    "papermill": {
     "duration": 0.025857,
     "end_time": "2023-10-21T15:35:24.405006",
     "exception": false,
     "start_time": "2023-10-21T15:35:24.379149",
     "status": "completed"
    },
    "tags": []
   },
   "outputs": [
    {
     "name": "stdout",
     "output_type": "stream",
     "text": [
      "0.16184243644601057\n",
      "0.08875505050505052\n"
     ]
    }
   ],
   "source": [
    "print(control[\"REVENUE\"].mean())\n",
    "print(variant[\"REVENUE\"].mean())"
   ]
  },
  {
   "cell_type": "markdown",
   "id": "51b9c843",
   "metadata": {
    "papermill": {
     "duration": 0.013587,
     "end_time": "2023-10-21T15:35:24.433534",
     "exception": false,
     "start_time": "2023-10-21T15:35:24.419947",
     "status": "completed"
    },
    "tags": []
   },
   "source": [
    "<div style=\"border-radius:10px; border:#DEB887 solid; padding: 15px; background-color: #FFFAF0; font-size:100%; text-align:left\">\n",
    "\n",
    "<h3 align=\"left\"><font color='#DEB887'>💡 Notes: </font></h3>\n",
    "    \n",
    "According to these numbers, it seems like there may be a difference in revenue between the groups, but this difference could have occurred by chance and should be statistically tested.\n",
    "\n",
    "**Step 1 - Formulate Hypotheses:**\n",
    "   - Null Hypothesis (H0): H₀: µ₁ = µ₂ (There is no statistical difference in terms of purchase between the Control and Variant Groups)\n",
    "   - Alternative Hypothesis (H1): H₁: µ₁ ≠ µ₂ (There is a statistical difference between the Control and Variant Groups in terms of Revenue)\n",
    "\n",
    "**Step 2 - Assumption Checks:**\n",
    "   - Normality Assumption\n",
    "   - Homogeneity of Variance\n",
    "\n",
    "**Step 3 - Normality Assumption Hypothesis:**\n",
    "   - H0: The normal distribution assumption is met.\n",
    "   - H1: The normal distribution assumption is not met.\n",
    "    \n",
    "**Step 4 - Assumption of Homogeneity of Variance:**\n",
    "   - H0: Variances are homogenous.\n",
    "   - H1: Variances are not homogenous."
   ]
  },
  {
   "cell_type": "code",
   "execution_count": 11,
   "id": "d53d9fa3",
   "metadata": {
    "execution": {
     "iopub.execute_input": "2023-10-21T15:35:24.466470Z",
     "iopub.status.busy": "2023-10-21T15:35:24.465740Z",
     "iopub.status.idle": "2023-10-21T15:35:24.472932Z",
     "shell.execute_reply": "2023-10-21T15:35:24.471895Z"
    },
    "papermill": {
     "duration": 0.027659,
     "end_time": "2023-10-21T15:35:24.475321",
     "exception": false,
     "start_time": "2023-10-21T15:35:24.447662",
     "status": "completed"
    },
    "tags": []
   },
   "outputs": [
    {
     "name": "stdout",
     "output_type": "stream",
     "text": [
      "Test Stat = 0.0327, p-value = 0.0000\n"
     ]
    }
   ],
   "source": [
    "test_stat, pvalue = shapiro(variant[\"REVENUE\"])\n",
    "\n",
    "print('Test Stat = %.4f, p-value = %.4f' % (test_stat, pvalue))"
   ]
  },
  {
   "cell_type": "code",
   "execution_count": 12,
   "id": "83b75300",
   "metadata": {
    "execution": {
     "iopub.execute_input": "2023-10-21T15:35:24.505172Z",
     "iopub.status.busy": "2023-10-21T15:35:24.504761Z",
     "iopub.status.idle": "2023-10-21T15:35:24.511316Z",
     "shell.execute_reply": "2023-10-21T15:35:24.509980Z"
    },
    "papermill": {
     "duration": 0.024782,
     "end_time": "2023-10-21T15:35:24.514228",
     "exception": false,
     "start_time": "2023-10-21T15:35:24.489446",
     "status": "completed"
    },
    "tags": []
   },
   "outputs": [
    {
     "name": "stdout",
     "output_type": "stream",
     "text": [
      "Test Stat = 0.0220, p-value = 0.0000\n"
     ]
    }
   ],
   "source": [
    "test_stat, pvalue = shapiro(control[\"REVENUE\"])\n",
    "\n",
    "print('Test Stat = %.4f, p-value = %.4f' % (test_stat, pvalue))"
   ]
  },
  {
   "cell_type": "markdown",
   "id": "b28a0750",
   "metadata": {
    "execution": {
     "iopub.execute_input": "2023-10-21T14:07:24.946058Z",
     "iopub.status.busy": "2023-10-21T14:07:24.945664Z",
     "iopub.status.idle": "2023-10-21T14:07:24.952304Z",
     "shell.execute_reply": "2023-10-21T14:07:24.951083Z",
     "shell.execute_reply.started": "2023-10-21T14:07:24.946028Z"
    },
    "papermill": {
     "duration": 0.013953,
     "end_time": "2023-10-21T15:35:24.542727",
     "exception": false,
     "start_time": "2023-10-21T15:35:24.528774",
     "status": "completed"
    },
    "tags": []
   },
   "source": [
    "<div style=\"border-radius:10px; border:#DEB887 solid; padding: 15px; background-color: #FFFAF0; font-size:100%; text-align:left\">\n",
    "\n",
    "<h3 align=\"left\"><font color='#DEB887'>💡 Notes: </font></h3>\n",
    "    \n",
    "* Normality assumption cannot be assumed, we need to proceed with the Mann-Whitney test without considering the homogeneity of distribution"
   ]
  },
  {
   "cell_type": "code",
   "execution_count": 13,
   "id": "0d29605b",
   "metadata": {
    "execution": {
     "iopub.execute_input": "2023-10-21T15:35:24.573390Z",
     "iopub.status.busy": "2023-10-21T15:35:24.572713Z",
     "iopub.status.idle": "2023-10-21T15:35:24.591123Z",
     "shell.execute_reply": "2023-10-21T15:35:24.589509Z"
    },
    "papermill": {
     "duration": 0.03691,
     "end_time": "2023-10-21T15:35:24.593922",
     "exception": false,
     "start_time": "2023-10-21T15:35:24.557012",
     "status": "completed"
    },
    "tags": []
   },
   "outputs": [
    {
     "name": "stdout",
     "output_type": "stream",
     "text": [
      "Test stat = 7882388.0000 , p-value = 0.5129\n"
     ]
    }
   ],
   "source": [
    "test_stat , pvalue = mannwhitneyu((control['REVENUE']),\n",
    "                                  (variant['REVENUE']))\n",
    "\n",
    "print('Test stat = %.4f , p-value = %.4f' % (test_stat, pvalue))"
   ]
  },
  {
   "cell_type": "markdown",
   "id": "95e3ade0",
   "metadata": {
    "papermill": {
     "duration": 0.013808,
     "end_time": "2023-10-21T15:35:24.622247",
     "exception": false,
     "start_time": "2023-10-21T15:35:24.608439",
     "status": "completed"
    },
    "tags": []
   },
   "source": [
    "<div style=\"border-radius:10px; border:#DEB887 solid; padding: 15px; background-color: #FFFAF0; font-size:100%; text-align:left\">\n",
    "\n",
    "<h3 align=\"left\"><font color='#DEB887'>💡 Notes:</font></h3>\n",
    "    \n",
    "* H0 cannot be rejected, there is no statistical difference between them."
   ]
  },
  {
   "cell_type": "markdown",
   "id": "6f191711",
   "metadata": {
    "papermill": {
     "duration": 0.014072,
     "end_time": "2023-10-21T15:35:24.710455",
     "exception": false,
     "start_time": "2023-10-21T15:35:24.696383",
     "status": "completed"
    },
    "tags": []
   },
   "source": [
    "# <p style=\"padding:10px;background-color:orange;margin:0;color:black;font-family:newtimeroman;font-size:100%;text-align:center;border-radius: 15px 50px;overflow:hidden;font-weight:500\">Fast-food marketing campaign A/B Test </p>"
   ]
  },
  {
   "cell_type": "code",
   "execution_count": 14,
   "id": "08a8f9cc",
   "metadata": {
    "execution": {
     "iopub.execute_input": "2023-10-21T15:35:24.740895Z",
     "iopub.status.busy": "2023-10-21T15:35:24.740491Z",
     "iopub.status.idle": "2023-10-21T15:35:24.753036Z",
     "shell.execute_reply": "2023-10-21T15:35:24.752134Z"
    },
    "papermill": {
     "duration": 0.030457,
     "end_time": "2023-10-21T15:35:24.755328",
     "exception": false,
     "start_time": "2023-10-21T15:35:24.724871",
     "status": "completed"
    },
    "tags": []
   },
   "outputs": [],
   "source": [
    "df2 = pd.read_csv(\"/kaggle/input/fast-food-marketing-campaign-ab-test/WA_Marketing-Campaign.csv\")"
   ]
  },
  {
   "cell_type": "code",
   "execution_count": 15,
   "id": "3b34af2a",
   "metadata": {
    "execution": {
     "iopub.execute_input": "2023-10-21T15:35:24.785980Z",
     "iopub.status.busy": "2023-10-21T15:35:24.785524Z",
     "iopub.status.idle": "2023-10-21T15:35:24.799822Z",
     "shell.execute_reply": "2023-10-21T15:35:24.798851Z"
    },
    "papermill": {
     "duration": 0.032143,
     "end_time": "2023-10-21T15:35:24.801905",
     "exception": false,
     "start_time": "2023-10-21T15:35:24.769762",
     "status": "completed"
    },
    "tags": []
   },
   "outputs": [
    {
     "data": {
      "text/html": [
       "<div>\n",
       "<style scoped>\n",
       "    .dataframe tbody tr th:only-of-type {\n",
       "        vertical-align: middle;\n",
       "    }\n",
       "\n",
       "    .dataframe tbody tr th {\n",
       "        vertical-align: top;\n",
       "    }\n",
       "\n",
       "    .dataframe thead th {\n",
       "        text-align: right;\n",
       "    }\n",
       "</style>\n",
       "<table border=\"1\" class=\"dataframe\">\n",
       "  <thead>\n",
       "    <tr style=\"text-align: right;\">\n",
       "      <th></th>\n",
       "      <th>0</th>\n",
       "      <th>1</th>\n",
       "      <th>2</th>\n",
       "      <th>3</th>\n",
       "      <th>4</th>\n",
       "    </tr>\n",
       "  </thead>\n",
       "  <tbody>\n",
       "    <tr>\n",
       "      <th>MarketID</th>\n",
       "      <td>1</td>\n",
       "      <td>1</td>\n",
       "      <td>1</td>\n",
       "      <td>1</td>\n",
       "      <td>1</td>\n",
       "    </tr>\n",
       "    <tr>\n",
       "      <th>MarketSize</th>\n",
       "      <td>Medium</td>\n",
       "      <td>Medium</td>\n",
       "      <td>Medium</td>\n",
       "      <td>Medium</td>\n",
       "      <td>Medium</td>\n",
       "    </tr>\n",
       "    <tr>\n",
       "      <th>LocationID</th>\n",
       "      <td>1</td>\n",
       "      <td>1</td>\n",
       "      <td>1</td>\n",
       "      <td>1</td>\n",
       "      <td>2</td>\n",
       "    </tr>\n",
       "    <tr>\n",
       "      <th>AgeOfStore</th>\n",
       "      <td>4</td>\n",
       "      <td>4</td>\n",
       "      <td>4</td>\n",
       "      <td>4</td>\n",
       "      <td>5</td>\n",
       "    </tr>\n",
       "    <tr>\n",
       "      <th>Promotion</th>\n",
       "      <td>3</td>\n",
       "      <td>3</td>\n",
       "      <td>3</td>\n",
       "      <td>3</td>\n",
       "      <td>2</td>\n",
       "    </tr>\n",
       "    <tr>\n",
       "      <th>week</th>\n",
       "      <td>1</td>\n",
       "      <td>2</td>\n",
       "      <td>3</td>\n",
       "      <td>4</td>\n",
       "      <td>1</td>\n",
       "    </tr>\n",
       "    <tr>\n",
       "      <th>SalesInThousands</th>\n",
       "      <td>33.73</td>\n",
       "      <td>35.67</td>\n",
       "      <td>29.03</td>\n",
       "      <td>39.25</td>\n",
       "      <td>27.81</td>\n",
       "    </tr>\n",
       "  </tbody>\n",
       "</table>\n",
       "</div>"
      ],
      "text/plain": [
       "                       0       1       2       3       4\n",
       "MarketID               1       1       1       1       1\n",
       "MarketSize        Medium  Medium  Medium  Medium  Medium\n",
       "LocationID             1       1       1       1       2\n",
       "AgeOfStore             4       4       4       4       5\n",
       "Promotion              3       3       3       3       2\n",
       "week                   1       2       3       4       1\n",
       "SalesInThousands   33.73   35.67   29.03   39.25   27.81"
      ]
     },
     "execution_count": 15,
     "metadata": {},
     "output_type": "execute_result"
    }
   ],
   "source": [
    "df2.head().T"
   ]
  },
  {
   "cell_type": "markdown",
   "id": "1e6f31e0",
   "metadata": {
    "papermill": {
     "duration": 0.014399,
     "end_time": "2023-10-21T15:35:24.830986",
     "exception": false,
     "start_time": "2023-10-21T15:35:24.816587",
     "status": "completed"
    },
    "tags": []
   },
   "source": [
    "<div style=\"border-radius:10px; border:#6B8BA0 solid; padding: 15px; background-color: #F2EADF; font-size:100%; text-align:left\">\n",
    "\n",
    "<h3 align=\"left\"><font color='#6B8BA0'>👀 Features: </font></h3>\n",
    "    \n",
    "* MarketID: unique identifier for market\n",
    "* MarketSize: size of market area by sales\n",
    "* LocationID: unique identifier for store location\n",
    "* AgeOfStore: age of store in years\n",
    "* Promotion: one of three promotions that were tested\n",
    "* week: one of four weeks when the promotions were run\n",
    "* SalesInThousands: sales amount for a specific LocationID, Promotion, and week"
   ]
  },
  {
   "cell_type": "markdown",
   "id": "8f8388bc",
   "metadata": {
    "papermill": {
     "duration": 0.014368,
     "end_time": "2023-10-21T15:35:24.860213",
     "exception": false,
     "start_time": "2023-10-21T15:35:24.845845",
     "status": "completed"
    },
    "tags": []
   },
   "source": [
    "<div style=\"border-radius:10px; border:#DEB887 solid; padding: 15px; background-color: #FFFAF0; font-size:100%; text-align:left\">\n",
    "\n",
    "<h3 align=\"left\"><font color='#DEB887'>💡 Notes:</font></h3>\n",
    "    \n",
    "* We can observe that the Promotion averages are close to each other, and similarly, the promotion averages are also close. However, there is a difference between them. But did this difference occur by chance? It needs to be statistically proven.\n",
    "\n",
    "1. The ANOVA hypotheses for four groups:\n",
    "\n",
    "    * H0: μ1 = μ2 = μ3 = μ4: The means of all groups are equal.\n",
    "    * H1: At least one group is different from the others.\n",
    "\n",
    "These hypotheses are used to test whether the average difference among the four groups is statistically significant. If H0 is rejected, at least one group is different from the others, and the ANOVA analysis identifies this difference.\n",
    "\n",
    "2. Assumption Checks:\n",
    "\n",
    "   - Normality Assumption\n",
    "   - Homogeneity of Variance\n",
    "   \n",
    "* If the assumption is met: **One Way Anova**\n",
    "* If the assumption is not met: **Kruskal**"
   ]
  },
  {
   "cell_type": "code",
   "execution_count": 16,
   "id": "80f6b407",
   "metadata": {
    "execution": {
     "iopub.execute_input": "2023-10-21T15:35:24.892099Z",
     "iopub.status.busy": "2023-10-21T15:35:24.891110Z",
     "iopub.status.idle": "2023-10-21T15:35:24.901101Z",
     "shell.execute_reply": "2023-10-21T15:35:24.899593Z"
    },
    "papermill": {
     "duration": 0.028653,
     "end_time": "2023-10-21T15:35:24.903678",
     "exception": false,
     "start_time": "2023-10-21T15:35:24.875025",
     "status": "completed"
    },
    "tags": []
   },
   "outputs": [
    {
     "name": "stdout",
     "output_type": "stream",
     "text": [
      "3 p-value: 0.0000\n",
      "2 p-value: 0.0000\n",
      "1 p-value: 0.0000\n"
     ]
    }
   ],
   "source": [
    "for group in list(df2[\"Promotion\"].unique()):\n",
    "    pvalue = shapiro(df2.loc[df2[\"Promotion\"] == group, \"SalesInThousands\"])[1]\n",
    "    print(group, 'p-value: %.4f' % pvalue)"
   ]
  },
  {
   "cell_type": "code",
   "execution_count": 17,
   "id": "d2d16a75",
   "metadata": {
    "execution": {
     "iopub.execute_input": "2023-10-21T15:35:24.935489Z",
     "iopub.status.busy": "2023-10-21T15:35:24.935086Z",
     "iopub.status.idle": "2023-10-21T15:35:24.949198Z",
     "shell.execute_reply": "2023-10-21T15:35:24.947988Z"
    },
    "papermill": {
     "duration": 0.032967,
     "end_time": "2023-10-21T15:35:24.951546",
     "exception": false,
     "start_time": "2023-10-21T15:35:24.918579",
     "status": "completed"
    },
    "tags": []
   },
   "outputs": [
    {
     "name": "stdout",
     "output_type": "stream",
     "text": [
      "\n",
      "Statistic: 53.295\n",
      "p-Value: 0.000\n",
      "\n"
     ]
    }
   ],
   "source": [
    "s,p = kruskal(df2.loc[df2[\"Promotion\"] == 1, \"SalesInThousands\"],\n",
    "        df2.loc[df2[\"Promotion\"] == 2, \"SalesInThousands\"],\n",
    "        df2.loc[df2[\"Promotion\"] == 3, \"SalesInThousands\"])\n",
    "print(f\"\\nStatistic: {s:.3f}\\np-Value: {p:.3f}\\n\")"
   ]
  },
  {
   "cell_type": "markdown",
   "id": "525efaf1",
   "metadata": {
    "papermill": {
     "duration": 0.014613,
     "end_time": "2023-10-21T15:35:24.981176",
     "exception": false,
     "start_time": "2023-10-21T15:35:24.966563",
     "status": "completed"
    },
    "tags": []
   },
   "source": [
    "<div style=\"border-radius:10px; border:#DEB887 solid; padding: 15px; background-color: #FFFAF0; font-size:100%; text-align:left\">\n",
    "\n",
    "<h3 align=\"left\"><font color='#DEB887'>💡 Notes:</font></h3>\n",
    "    \n",
    "* The p-value for the hypothesis of equality of promotions is less than 0.05; therefore, we reject the null hypothesis, indicating that the assumption of equality is not satisfied.\n",
    "    \n",
    "* In Addition to this, we can check the  difference amoung beetwen these groups in below."
   ]
  },
  {
   "cell_type": "code",
   "execution_count": 18,
   "id": "75cf2900",
   "metadata": {
    "execution": {
     "iopub.execute_input": "2023-10-21T15:35:25.014237Z",
     "iopub.status.busy": "2023-10-21T15:35:25.013837Z",
     "iopub.status.idle": "2023-10-21T15:35:25.313220Z",
     "shell.execute_reply": "2023-10-21T15:35:25.311662Z"
    },
    "papermill": {
     "duration": 0.318241,
     "end_time": "2023-10-21T15:35:25.315787",
     "exception": false,
     "start_time": "2023-10-21T15:35:24.997546",
     "status": "completed"
    },
    "tags": []
   },
   "outputs": [
    {
     "name": "stdout",
     "output_type": "stream",
     "text": [
      " Multiple Comparison of Means - Tukey HSD, FWER=0.05 \n",
      "=====================================================\n",
      "group1 group2 meandiff p-adj   lower    upper  reject\n",
      "-----------------------------------------------------\n",
      "     1      2 -10.7696    0.0 -14.7738 -6.7654   True\n",
      "     1      3  -2.7345 0.2444  -6.7388  1.2697  False\n",
      "     2      3   8.0351    0.0   4.1208 11.9493   True\n",
      "-----------------------------------------------------\n"
     ]
    }
   ],
   "source": [
    "from statsmodels.stats.multicomp import  MultiComparison\n",
    "comparison = MultiComparison(df2[\"SalesInThousands\"], df2[\"Promotion\"])\n",
    "tukey = comparison.tukeyhsd(0.05)\n",
    "print(tukey.summary())"
   ]
  },
  {
   "cell_type": "markdown",
   "id": "e66ca279",
   "metadata": {
    "papermill": {
     "duration": 0.01536,
     "end_time": "2023-10-21T15:35:25.346278",
     "exception": false,
     "start_time": "2023-10-21T15:35:25.330918",
     "status": "completed"
    },
    "tags": []
   },
   "source": [
    "<div style=\"border-radius:10px; border:#DEB887 solid; padding: 15px; background-color: #FFFAF0; font-size:100%; text-align:left\">\n",
    "\n",
    "<h3 align=\"left\"><font color='#DEB887'>💡 Notes:</font></h3> \n",
    "    \n",
    "* We cannot reject the similarity between 1 and 3; the similarity between 1 and 2  also 2 and 3 is rejected."
   ]
  },
  {
   "cell_type": "markdown",
   "id": "b1e87b65",
   "metadata": {
    "papermill": {
     "duration": 0.015363,
     "end_time": "2023-10-21T15:35:25.376697",
     "exception": false,
     "start_time": "2023-10-21T15:35:25.361334",
     "status": "completed"
    },
    "tags": []
   },
   "source": [
    "# <p style=\"padding:10px;background-color:orange;margin:0;color:black;font-family:newtimeroman;font-size:100%;text-align:center;border-radius: 15px 50px;overflow:hidden;font-weight:500\">Mobile games A/B test</p>"
   ]
  },
  {
   "cell_type": "code",
   "execution_count": 19,
   "id": "8c705428",
   "metadata": {
    "execution": {
     "iopub.execute_input": "2023-10-21T15:35:25.408580Z",
     "iopub.status.busy": "2023-10-21T15:35:25.408198Z",
     "iopub.status.idle": "2023-10-21T15:35:25.529334Z",
     "shell.execute_reply": "2023-10-21T15:35:25.528181Z"
    },
    "papermill": {
     "duration": 0.140292,
     "end_time": "2023-10-21T15:35:25.532081",
     "exception": false,
     "start_time": "2023-10-21T15:35:25.391789",
     "status": "completed"
    },
    "tags": []
   },
   "outputs": [],
   "source": [
    "df3 = pd.read_csv(\"/kaggle/input/mobile-games-ab-testing/cookie_cats.csv\")"
   ]
  },
  {
   "cell_type": "code",
   "execution_count": 20,
   "id": "d0445959",
   "metadata": {
    "execution": {
     "iopub.execute_input": "2023-10-21T15:35:25.564194Z",
     "iopub.status.busy": "2023-10-21T15:35:25.563787Z",
     "iopub.status.idle": "2023-10-21T15:35:25.577571Z",
     "shell.execute_reply": "2023-10-21T15:35:25.576439Z"
    },
    "papermill": {
     "duration": 0.032707,
     "end_time": "2023-10-21T15:35:25.579913",
     "exception": false,
     "start_time": "2023-10-21T15:35:25.547206",
     "status": "completed"
    },
    "tags": []
   },
   "outputs": [
    {
     "data": {
      "text/html": [
       "<div>\n",
       "<style scoped>\n",
       "    .dataframe tbody tr th:only-of-type {\n",
       "        vertical-align: middle;\n",
       "    }\n",
       "\n",
       "    .dataframe tbody tr th {\n",
       "        vertical-align: top;\n",
       "    }\n",
       "\n",
       "    .dataframe thead th {\n",
       "        text-align: right;\n",
       "    }\n",
       "</style>\n",
       "<table border=\"1\" class=\"dataframe\">\n",
       "  <thead>\n",
       "    <tr style=\"text-align: right;\">\n",
       "      <th></th>\n",
       "      <th>0</th>\n",
       "      <th>1</th>\n",
       "      <th>2</th>\n",
       "      <th>3</th>\n",
       "      <th>4</th>\n",
       "    </tr>\n",
       "  </thead>\n",
       "  <tbody>\n",
       "    <tr>\n",
       "      <th>userid</th>\n",
       "      <td>116</td>\n",
       "      <td>337</td>\n",
       "      <td>377</td>\n",
       "      <td>483</td>\n",
       "      <td>488</td>\n",
       "    </tr>\n",
       "    <tr>\n",
       "      <th>version</th>\n",
       "      <td>gate_30</td>\n",
       "      <td>gate_30</td>\n",
       "      <td>gate_40</td>\n",
       "      <td>gate_40</td>\n",
       "      <td>gate_40</td>\n",
       "    </tr>\n",
       "    <tr>\n",
       "      <th>sum_gamerounds</th>\n",
       "      <td>3</td>\n",
       "      <td>38</td>\n",
       "      <td>165</td>\n",
       "      <td>1</td>\n",
       "      <td>179</td>\n",
       "    </tr>\n",
       "    <tr>\n",
       "      <th>retention_1</th>\n",
       "      <td>False</td>\n",
       "      <td>True</td>\n",
       "      <td>True</td>\n",
       "      <td>False</td>\n",
       "      <td>True</td>\n",
       "    </tr>\n",
       "    <tr>\n",
       "      <th>retention_7</th>\n",
       "      <td>False</td>\n",
       "      <td>False</td>\n",
       "      <td>False</td>\n",
       "      <td>False</td>\n",
       "      <td>True</td>\n",
       "    </tr>\n",
       "  </tbody>\n",
       "</table>\n",
       "</div>"
      ],
      "text/plain": [
       "                      0        1        2        3        4\n",
       "userid              116      337      377      483      488\n",
       "version         gate_30  gate_30  gate_40  gate_40  gate_40\n",
       "sum_gamerounds        3       38      165        1      179\n",
       "retention_1       False     True     True    False     True\n",
       "retention_7       False    False    False    False     True"
      ]
     },
     "execution_count": 20,
     "metadata": {},
     "output_type": "execute_result"
    }
   ],
   "source": [
    "df3.head().T"
   ]
  },
  {
   "cell_type": "markdown",
   "id": "aacb5937",
   "metadata": {
    "papermill": {
     "duration": 0.01492,
     "end_time": "2023-10-21T15:35:25.610046",
     "exception": false,
     "start_time": "2023-10-21T15:35:25.595126",
     "status": "completed"
    },
    "tags": []
   },
   "source": [
    "<div style=\"border-radius:10px; border:#6B8BA0 solid; padding: 15px; background-color: #F2EADF; font-size:100%; text-align:left\">\n",
    "\n",
    "<h3 align=\"left\"><font color='#6B8BA0'>👀 Features: </font></h3>\n",
    "    \n",
    "- **userid:** Unique identifier for each user.\n",
    "- **version:** Whether the player was put in the control group (gate_30 - a gate at level 30) or the test group (gate_40 - a gate at level 40).\n",
    "- **sum_gamerounds:** The total number of game rounds played by the user.\n",
    "- **retention_1:** Whether the user retained after 1 day from installation (binary: 1 for retained, 0 for not retained).\n",
    "- **retention_7:** Whether the user retained after 7 days from installation (binary: 1 for retained, 0 for not retained)."
   ]
  },
  {
   "cell_type": "code",
   "execution_count": 21,
   "id": "72f236e3",
   "metadata": {
    "execution": {
     "iopub.execute_input": "2023-10-21T15:35:25.642204Z",
     "iopub.status.busy": "2023-10-21T15:35:25.641783Z",
     "iopub.status.idle": "2023-10-21T15:35:25.666071Z",
     "shell.execute_reply": "2023-10-21T15:35:25.665113Z"
    },
    "papermill": {
     "duration": 0.043241,
     "end_time": "2023-10-21T15:35:25.668374",
     "exception": false,
     "start_time": "2023-10-21T15:35:25.625133",
     "status": "completed"
    },
    "tags": []
   },
   "outputs": [
    {
     "data": {
      "text/html": [
       "<div>\n",
       "<style scoped>\n",
       "    .dataframe tbody tr th:only-of-type {\n",
       "        vertical-align: middle;\n",
       "    }\n",
       "\n",
       "    .dataframe tbody tr th {\n",
       "        vertical-align: top;\n",
       "    }\n",
       "\n",
       "    .dataframe thead tr th {\n",
       "        text-align: left;\n",
       "    }\n",
       "\n",
       "    .dataframe thead tr:last-of-type th {\n",
       "        text-align: right;\n",
       "    }\n",
       "</style>\n",
       "<table border=\"1\" class=\"dataframe\">\n",
       "  <thead>\n",
       "    <tr>\n",
       "      <th></th>\n",
       "      <th colspan=\"2\" halign=\"left\">sum_gamerounds</th>\n",
       "    </tr>\n",
       "    <tr>\n",
       "      <th></th>\n",
       "      <th>count</th>\n",
       "      <th>mean</th>\n",
       "    </tr>\n",
       "    <tr>\n",
       "      <th>version</th>\n",
       "      <th></th>\n",
       "      <th></th>\n",
       "    </tr>\n",
       "  </thead>\n",
       "  <tbody>\n",
       "    <tr>\n",
       "      <th>gate_30</th>\n",
       "      <td>44700</td>\n",
       "      <td>52.456264</td>\n",
       "    </tr>\n",
       "    <tr>\n",
       "      <th>gate_40</th>\n",
       "      <td>45489</td>\n",
       "      <td>51.298776</td>\n",
       "    </tr>\n",
       "  </tbody>\n",
       "</table>\n",
       "</div>"
      ],
      "text/plain": [
       "        sum_gamerounds           \n",
       "                 count       mean\n",
       "version                          \n",
       "gate_30          44700  52.456264\n",
       "gate_40          45489  51.298776"
      ]
     },
     "execution_count": 21,
     "metadata": {},
     "output_type": "execute_result"
    }
   ],
   "source": [
    "df3.groupby('version').agg({\"sum_gamerounds\": [\"count\", \"mean\"]})"
   ]
  },
  {
   "cell_type": "code",
   "execution_count": 22,
   "id": "8ff0b78e",
   "metadata": {
    "execution": {
     "iopub.execute_input": "2023-10-21T15:35:25.701987Z",
     "iopub.status.busy": "2023-10-21T15:35:25.700825Z",
     "iopub.status.idle": "2023-10-21T15:35:25.722389Z",
     "shell.execute_reply": "2023-10-21T15:35:25.721276Z"
    },
    "papermill": {
     "duration": 0.041019,
     "end_time": "2023-10-21T15:35:25.724940",
     "exception": false,
     "start_time": "2023-10-21T15:35:25.683921",
     "status": "completed"
    },
    "tags": []
   },
   "outputs": [
    {
     "data": {
      "text/plain": [
       "version\n",
       "gate_40    45489\n",
       "gate_30    44700\n",
       "Name: count, dtype: int64"
      ]
     },
     "execution_count": 22,
     "metadata": {},
     "output_type": "execute_result"
    }
   ],
   "source": [
    "df3.version.value_counts()"
   ]
  },
  {
   "cell_type": "code",
   "execution_count": 23,
   "id": "8e133165",
   "metadata": {
    "execution": {
     "iopub.execute_input": "2023-10-21T15:35:25.757964Z",
     "iopub.status.busy": "2023-10-21T15:35:25.757531Z",
     "iopub.status.idle": "2023-10-21T15:35:25.768667Z",
     "shell.execute_reply": "2023-10-21T15:35:25.767318Z"
    },
    "papermill": {
     "duration": 0.03188,
     "end_time": "2023-10-21T15:35:25.772480",
     "exception": false,
     "start_time": "2023-10-21T15:35:25.740600",
     "status": "completed"
    },
    "tags": []
   },
   "outputs": [
    {
     "data": {
      "text/plain": [
       "(50.59946671311376, 53.14544674639904)"
      ]
     },
     "execution_count": 23,
     "metadata": {},
     "output_type": "execute_result"
    }
   ],
   "source": [
    "sms.DescrStatsW(df3[\"sum_gamerounds\"]).tconfint_mean()"
   ]
  },
  {
   "cell_type": "code",
   "execution_count": 24,
   "id": "6aaa9bae",
   "metadata": {
    "execution": {
     "iopub.execute_input": "2023-10-21T15:35:25.844166Z",
     "iopub.status.busy": "2023-10-21T15:35:25.842474Z",
     "iopub.status.idle": "2023-10-21T15:35:25.863754Z",
     "shell.execute_reply": "2023-10-21T15:35:25.862378Z"
    },
    "papermill": {
     "duration": 0.060683,
     "end_time": "2023-10-21T15:35:25.867282",
     "exception": false,
     "start_time": "2023-10-21T15:35:25.806599",
     "status": "completed"
    },
    "tags": []
   },
   "outputs": [
    {
     "data": {
      "text/plain": [
       "51.279"
      ]
     },
     "execution_count": 24,
     "metadata": {},
     "output_type": "execute_result"
    }
   ],
   "source": [
    "sample = df3.sample(n=9000,random_state=42)\n",
    "sample[\"sum_gamerounds\"].mean()"
   ]
  },
  {
   "cell_type": "markdown",
   "id": "fe46e39a",
   "metadata": {
    "papermill": {
     "duration": 0.015738,
     "end_time": "2023-10-21T15:35:25.907609",
     "exception": false,
     "start_time": "2023-10-21T15:35:25.891871",
     "status": "completed"
    },
    "tags": []
   },
   "source": [
    "<div style=\"border-radius:10px; border:#DEB887 solid; padding: 15px; background-color: #FFFAF0; font-size:100%; text-align:left\">\n",
    "\n",
    "<h3 align=\"left\"><font color='#DEB887'>💡 Notes:</font></h3> \n",
    "    \n",
    "* Shapiro-Wilk test cannot be performed with a sample size over 5000. It requires observation units within sample sizes below 5000. Hence, I calculated the confidence interval from 9000 observation units and obtained a sample that fits within this confidence interval."
   ]
  },
  {
   "cell_type": "markdown",
   "id": "ed8aefb3",
   "metadata": {
    "papermill": {
     "duration": 0.015539,
     "end_time": "2023-10-21T15:35:25.939117",
     "exception": false,
     "start_time": "2023-10-21T15:35:25.923578",
     "status": "completed"
    },
    "tags": []
   },
   "source": [
    "<div style=\"border-radius:10px; border:#D0C2F0 solid; padding: 15px; background-color: #FFF0F4; font-size:100%; text-align:left\">\n",
    "\n",
    "<h3 align=\"left\"><font color='#5E5273'>🔍 Hypotesis</font></h3>\n",
    "\n",
    "* **H₀: µ₁ = µ₂** (There is no statistical difference in terms of game rounds between the versions)\n",
    "    \n",
    "* **H₁: µ₁ ≠ µ₂** (There is statistical difference in terms of game rounds between the versions)"
   ]
  },
  {
   "cell_type": "code",
   "execution_count": 25,
   "id": "cc7ba59b",
   "metadata": {
    "execution": {
     "iopub.execute_input": "2023-10-21T15:35:25.975172Z",
     "iopub.status.busy": "2023-10-21T15:35:25.974645Z",
     "iopub.status.idle": "2023-10-21T15:35:25.993587Z",
     "shell.execute_reply": "2023-10-21T15:35:25.991120Z"
    },
    "papermill": {
     "duration": 0.042795,
     "end_time": "2023-10-21T15:35:25.998519",
     "exception": false,
     "start_time": "2023-10-21T15:35:25.955724",
     "status": "completed"
    },
    "tags": []
   },
   "outputs": [
    {
     "name": "stdout",
     "output_type": "stream",
     "text": [
      "Version: gate_30 \n",
      "Statistic: 0.497\n",
      "p-Value: 0.000\n",
      "\n",
      "Version: gate_40 \n",
      "Statistic: 0.479\n",
      "p-Value: 0.000\n",
      "\n"
     ]
    }
   ],
   "source": [
    "for ver in sample[\"version\"].unique():\n",
    "    s,p = shapiro(sample.loc[sample['version']==ver,\"sum_gamerounds\"])\n",
    "    print(f\"Version: {ver} \\nStatistic: {s:.3f}\\np-Value: {p:.3f}\\n\")"
   ]
  },
  {
   "cell_type": "markdown",
   "id": "b26fc97d",
   "metadata": {
    "papermill": {
     "duration": 0.017878,
     "end_time": "2023-10-21T15:35:26.036755",
     "exception": false,
     "start_time": "2023-10-21T15:35:26.018877",
     "status": "completed"
    },
    "tags": []
   },
   "source": [
    "<div style=\"border-radius:10px; border:#DEB887 solid; padding: 15px; background-color: #FFFAF0; font-size:100%; text-align:left\">\n",
    "\n",
    "<h3 align=\"left\"><font color='#DEB887'>💡 Notes: </font></h3>\n",
    "    \n",
    "* Normality assumption cannot be assumed, we need to proceed with the Mann-Whitney test without considering the homogeneity of distribution"
   ]
  },
  {
   "cell_type": "code",
   "execution_count": 26,
   "id": "d8f0a706",
   "metadata": {
    "execution": {
     "iopub.execute_input": "2023-10-21T15:35:26.071740Z",
     "iopub.status.busy": "2023-10-21T15:35:26.070549Z",
     "iopub.status.idle": "2023-10-21T15:35:26.102264Z",
     "shell.execute_reply": "2023-10-21T15:35:26.101045Z"
    },
    "papermill": {
     "duration": 0.052139,
     "end_time": "2023-10-21T15:35:26.105221",
     "exception": false,
     "start_time": "2023-10-21T15:35:26.053082",
     "status": "completed"
    },
    "tags": []
   },
   "outputs": [
    {
     "name": "stdout",
     "output_type": "stream",
     "text": [
      "\n",
      "Statistic: 10177266.500\n",
      "p-Value: 0.665\n",
      "\n"
     ]
    }
   ],
   "source": [
    "s,p = mannwhitneyu(sample.loc[sample['version']==\"gate_30\",\"sum_gamerounds\"],\n",
    "             sample.loc[sample['version']==\"gate_40\",\"sum_gamerounds\"])\n",
    "print(f\"\\nStatistic: {s:.3f}\\np-Value: {p:.3f}\\n\")"
   ]
  },
  {
   "cell_type": "markdown",
   "id": "adaa6d9c",
   "metadata": {
    "papermill": {
     "duration": 0.019905,
     "end_time": "2023-10-21T15:35:26.150885",
     "exception": false,
     "start_time": "2023-10-21T15:35:26.130980",
     "status": "completed"
    },
    "tags": []
   },
   "source": [
    "<div style=\"border-radius:10px; border:#DEB887 solid; padding: 15px; background-color: #FFFAF0; font-size:100%; text-align:left\">\n",
    "\n",
    "<h3 align=\"left\"><font color='#DEB887'>💡 Notes: </font></h3>\n",
    "    \n",
    "* According to the Mann-Whitney U test, H0 cannot be rejected. There is no significant difference between the means of the two groups."
   ]
  }
 ],
 "metadata": {
  "kernelspec": {
   "display_name": "Python 3",
   "language": "python",
   "name": "python3"
  },
  "language_info": {
   "codemirror_mode": {
    "name": "ipython",
    "version": 3
   },
   "file_extension": ".py",
   "mimetype": "text/x-python",
   "name": "python",
   "nbconvert_exporter": "python",
   "pygments_lexer": "ipython3",
   "version": "3.10.12"
  },
  "papermill": {
   "default_parameters": {},
   "duration": 9.595713,
   "end_time": "2023-10-21T15:35:26.897460",
   "environment_variables": {},
   "exception": null,
   "input_path": "__notebook__.ipynb",
   "output_path": "__notebook__.ipynb",
   "parameters": {},
   "start_time": "2023-10-21T15:35:17.301747",
   "version": "2.4.0"
  }
 },
 "nbformat": 4,
 "nbformat_minor": 5
}
